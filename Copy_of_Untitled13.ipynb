{
  "nbformat": 4,
  "nbformat_minor": 0,
  "metadata": {
    "colab": {
      "provenance": [],
      "authorship_tag": "ABX9TyNVDgg3doBzqNFru17qDfzQ",
      "include_colab_link": true
    },
    "kernelspec": {
      "name": "python3",
      "display_name": "Python 3"
    },
    "language_info": {
      "name": "python"
    }
  },
  "cells": [
    {
      "cell_type": "markdown",
      "metadata": {
        "id": "view-in-github",
        "colab_type": "text"
      },
      "source": [
        "<a href=\"https://colab.research.google.com/github/Blackzamasu/Siclon-Kendall-Ron-T./blob/main/Copy_of_Untitled13.ipynb\" target=\"_parent\"><img src=\"https://colab.research.google.com/assets/colab-badge.svg\" alt=\"Open In Colab\"/></a>"
      ]
    },
    {
      "cell_type": "markdown",
      "source": [
        "Exercise 1."
      ],
      "metadata": {
        "id": "xfSzo3Zn_BwR"
      }
    },
    {
      "cell_type": "code",
      "source": [
        "def  joint_probability(p_A, p_B):\n",
        "     return p_A * p_B\n",
        "\n",
        "def marginal_probability(p_A, p_B):\n",
        "    return p_A + p_B - joint_probability(p_A, p_B)\n",
        "\n",
        "def conditional_probability(p_B_given_A, p_A,p_B):\n",
        "    return (p_B_given_A * p_A) / p_B\n",
        "\n",
        "p_A = 0.3\n",
        "p_B = 0.4\n",
        "p_B_given_A = 0.8\n",
        "\n",
        "print(f\"Joint Probability: {joint_probability(p_A, p_B)}\")\n",
        "print(f\"Marginal Probability: {marginal_probability(p_A, p_B)}\")\n",
        "print(f\"Conditional Probability: {conditional_probability(p_B_given_A, p_A, p_B)}\")"
      ],
      "metadata": {
        "colab": {
          "base_uri": "https://localhost:8080/"
        },
        "id": "Ht94l30qzo8B",
        "outputId": "3b0465dd-9fc8-4e3b-cc2c-fb040878d638"
      },
      "execution_count": null,
      "outputs": [
        {
          "output_type": "stream",
          "name": "stdout",
          "text": [
            "Joint Probability: 0.12\n",
            "Marginal Probability: 0.58\n",
            "Conditional Probability: 0.6\n"
          ]
        }
      ]
    },
    {
      "cell_type": "markdown",
      "source": [
        "Assessment 1"
      ],
      "metadata": {
        "id": "N6xhHDkb8d1K"
      }
    },
    {
      "cell_type": "code",
      "source": [
        "def joint_probability(p_A, p_B):\n",
        "    return p_A * p_B\n",
        "\n",
        "# Given probabilities\n",
        "p_A = 0.3\n",
        "p_B = 0.4\n",
        "\n",
        "# Computing joint probability\n",
        "result = joint_probability(p_A, p_B)\n",
        "\n",
        "# Output the result\n",
        "result"
      ],
      "metadata": {
        "colab": {
          "base_uri": "https://localhost:8080/"
        },
        "id": "92_urE5O8Qe7",
        "outputId": "de61d43c-e6a1-447c-e737-1bee80f74ef4"
      },
      "execution_count": 1,
      "outputs": [
        {
          "output_type": "execute_result",
          "data": {
            "text/plain": [
              "0.12"
            ]
          },
          "metadata": {},
          "execution_count": 1
        }
      ]
    },
    {
      "cell_type": "markdown",
      "source": [
        "we can verify if the output matches the expected joint probability based on the provided probabilities of A and B."
      ],
      "metadata": {
        "id": "ePZueYLr_LKX"
      }
    },
    {
      "cell_type": "code",
      "source": [
        "import numpy as np\n",
        "\n",
        "def simulate_decision(num_simulations, p_succes, reward_succes, reward_failure):\n",
        "  outcomes = []\n",
        "  for _ in range(num_simulations):\n",
        "     if np.random.rand() < p_success:\n",
        "         outcomes.append(reward_success)\n",
        "\n",
        "     else:\n",
        "         outcomes.append(reward_failure)\n",
        "  return np.mean(outcomes)\n",
        "\n",
        "\n",
        "p_success = 0.7\n",
        "reward_success = 1000\n",
        "reward_failure = -500\n",
        "\n",
        "average_outcome = simulate_decision(1000, p_success, reward_success, reward_failure)\n",
        "print(f\"Expected value of decision: {average_outcome}\")"
      ],
      "metadata": {
        "colab": {
          "base_uri": "https://localhost:8080/"
        },
        "id": "Mb5565VP4XuM",
        "outputId": "041d439e-4257-4174-ae6a-d4e96e8e2150"
      },
      "execution_count": null,
      "outputs": [
        {
          "output_type": "stream",
          "name": "stdout",
          "text": [
            "Expected value of decision: 562.0\n"
          ]
        }
      ]
    },
    {
      "cell_type": "markdown",
      "source": [
        "Assessment 2."
      ],
      "metadata": {
        "id": "VGjaxH529PrK"
      }
    },
    {
      "cell_type": "code",
      "source": [
        "def bayesian_inference(p_positive_given_disease, p_disease, p_positive_given_no_disease):\n",
        "    # Calculate the total probability of testing positive (law of total probability)\n",
        "    p_positive = (p_positive_given_disease * p_disease) + (p_positive_given_no_disease * (1 - p_disease))\n",
        "\n",
        "    posterior_probability = (p_positive_given_disease * p_disease) / p_positive\n",
        "\n",
        "    return posterior_probability\n",
        "\n",
        "p_positive_given_disease = 0.90\n",
        "p_positive_given_no_disease = 0.05\n",
        "p_disease = 0.01\n",
        "\n",
        "result = bayesian_inference(p_positive_given_disease, p_disease, p_positive_given_no_disease)\n",
        "\n",
        "result"
      ],
      "metadata": {
        "colab": {
          "base_uri": "https://localhost:8080/"
        },
        "id": "38HMPCbV83NS",
        "outputId": "8b001dd2-bbcc-42f4-e388-1f18b8f5167d"
      },
      "execution_count": 4,
      "outputs": [
        {
          "output_type": "execute_result",
          "data": {
            "text/plain": [
              "0.15384615384615385"
            ]
          },
          "metadata": {},
          "execution_count": 4
        }
      ]
    },
    {
      "cell_type": "markdown",
      "source": [
        "Prior Probability: The initial probability of having the disease before the test\n",
        ".Likelihood: How likely the test result is given whether or not the person has the disease\n",
        ".Posterior Probability: The updated probability of having the disease after considering the test result."
      ],
      "metadata": {
        "id": "_wXkKHo1_Z-c"
      }
    },
    {
      "cell_type": "code",
      "source": [
        "def bayesian_infrence(prior, likelihood_positive_given_disease, likelihood_positive):\n",
        "    posterior = (likelihood_positive_given_disease * prior) / likelihood_positive\n",
        "    return posterior\n",
        "\n",
        "prior_disease = 0.01\n",
        "likelihood_positive_given_disease = 0.9\n",
        "likelihood_positive = 0.05\n",
        "\n",
        "posterior_disease - bayesian_inference(prior_disease, likelihood_positive_given_disease, likelihood_positive)\n",
        "print(f\"posterior probability of disease given positive test: {posterior_disease}\")"
      ],
      "metadata": {
        "colab": {
          "base_uri": "https://localhost:8080/",
          "height": 211
        },
        "id": "fnq9nero6O5Y",
        "outputId": "bf47855c-62a5-4bc5-ba4f-c55e743aaf99"
      },
      "execution_count": null,
      "outputs": [
        {
          "output_type": "error",
          "ename": "NameError",
          "evalue": "name 'posterior_disease' is not defined",
          "traceback": [
            "\u001b[0;31m---------------------------------------------------------------------------\u001b[0m",
            "\u001b[0;31mNameError\u001b[0m                                 Traceback (most recent call last)",
            "\u001b[0;32m<ipython-input-3-2ca243448036>\u001b[0m in \u001b[0;36m<cell line: 9>\u001b[0;34m()\u001b[0m\n\u001b[1;32m      7\u001b[0m \u001b[0mlikelihood_positive\u001b[0m \u001b[0;34m=\u001b[0m \u001b[0;36m0.05\u001b[0m\u001b[0;34m\u001b[0m\u001b[0;34m\u001b[0m\u001b[0m\n\u001b[1;32m      8\u001b[0m \u001b[0;34m\u001b[0m\u001b[0m\n\u001b[0;32m----> 9\u001b[0;31m \u001b[0mposterior_disease\u001b[0m \u001b[0;34m-\u001b[0m \u001b[0mbayesian_inference\u001b[0m\u001b[0;34m(\u001b[0m\u001b[0mprior_disease\u001b[0m\u001b[0;34m,\u001b[0m \u001b[0mlikelihood_positive_given_disease\u001b[0m\u001b[0;34m,\u001b[0m \u001b[0mlikelihood_positive\u001b[0m\u001b[0;34m)\u001b[0m\u001b[0;34m\u001b[0m\u001b[0;34m\u001b[0m\u001b[0m\n\u001b[0m\u001b[1;32m     10\u001b[0m \u001b[0mprint\u001b[0m\u001b[0;34m(\u001b[0m\u001b[0;34mf\"posterior probability of disease given positive test: {posterior_disease}\"\u001b[0m\u001b[0;34m)\u001b[0m\u001b[0;34m\u001b[0m\u001b[0;34m\u001b[0m\u001b[0m\n",
            "\u001b[0;31mNameError\u001b[0m: name 'posterior_disease' is not defined"
          ]
        }
      ]
    },
    {
      "cell_type": "markdown",
      "source": [
        "Assessment 3."
      ],
      "metadata": {
        "id": "CLEKtD5W-GB2"
      }
    },
    {
      "cell_type": "code",
      "source": [
        "import random\n",
        "\n",
        "def decision_simulation(prob_success=0.7):\n",
        "\n",
        "    iterations = 1000\n",
        "    reward_success = 1000\n",
        "    penalty_failure = -500\n",
        "\n",
        "    total_return = 0\n",
        "\n",
        "    for _ in range(iterations):\n",
        "        if random.random() < prob_success:\n",
        "            total_return += reward_success\n",
        "        else:\n",
        "            total_return += penalty_failure\n",
        "\n",
        "    average_return = total_return / iterations\n",
        "\n",
        "    return average_return\n",
        "\n",
        "average_return = decision_simulation()\n",
        "\n",
        "average_return"
      ],
      "metadata": {
        "colab": {
          "base_uri": "https://localhost:8080/"
        },
        "id": "ICzylv3O9xeJ",
        "outputId": "d3da0b73-ea3a-42b2-a501-87275d9dd2cb"
      },
      "execution_count": 6,
      "outputs": [
        {
          "output_type": "execute_result",
          "data": {
            "text/plain": [
              "542.5"
            ]
          },
          "metadata": {},
          "execution_count": 6
        }
      ]
    },
    {
      "cell_type": "code",
      "source": [
        "import numpy as np\n",
        "import matplotlib.pyplot as plt\n",
        "\n",
        "n_trials = 1000\n",
        "p_head = 0.5\n",
        "binomial_distribution = np.random.binomial(n=1, p=p_head, size=n_trials)\n",
        "\n",
        "plt.hist(binomial_distribution, bins=2)\n",
        "plt.title('Binomial Distribution (Coin Flips)')\n",
        "plt.show()"
      ],
      "metadata": {
        "id": "78IORTiaAhLQ",
        "colab": {
          "base_uri": "https://localhost:8080/",
          "height": 231
        },
        "outputId": "769c4f84-e67e-4183-f737-711c635592f7"
      },
      "execution_count": null,
      "outputs": [
        {
          "output_type": "display_data",
          "data": {
            "text/plain": [
              "<Figure size 640x480 with 1 Axes>"
            ],
            "image/png": "[encoded data removed]"
          },
          "metadata": {}
        }
      ]
    },
    {
      "cell_type": "markdown",
      "source": [
        "Assessment 4."
      ],
      "metadata": {
        "id": "byKYkMUu-9GT"
      }
    },
    {
      "cell_type": "code",
      "source": [
        "import matplotlib.pyplot as plt\n",
        "\n",
        "p_rain_high_humidity_heavy_cloud = 0.8\n",
        "\n",
        "p_rain_low_humidity_light_cloud = 0.2\n",
        "\n",
        "def predict_rain_probability(humidity, cloud_cover):\n",
        "    if humidity == 'high' and cloud_cover == 'heavy':\n",
        "        return p_rain_high_humidity_heavy_cloud\n",
        "    elif humidity == 'low' and cloud_cover == 'light':\n",
        "        return p_rain_low_humidity_light_cloud\n",
        "    else:\n",
        "        return 0.5  # Default to 50% probability if no specific rule\n",
        "\n",
        "def simulate_scenario():\n",
        "    while True:\n",
        "        humidity = input(\"Enter humidity level (high/low): \").lower()\n",
        "        cloud_cover = input(\"Enter cloud cover (heavy/light): \").lower()\n",
        "\n",
        "        rain_probability = predict_rain_probability(humidity, cloud_cover)\n",
        "\n",
        "        print(f\"Probability of rain: {rain_probability:.2f}\")\n",
        "\n",
        "        x_labels = ['High Humidity - Heavy Cloud', 'Low Humidity - Light Cloud']\n",
        "        y_values = [p_rain_high_humidity_heavy_cloud, p_rain_low_humidity_light_cloud]\n",
        "\n",
        "        plt.bar(x_labels, y_values)\n",
        "        plt.xlabel('Conditions')\n",
        "        plt.ylabel('Probability of Rain')\n",
        "        plt.title('Probability of Rain Based on Conditions')\n",
        "        plt.ylim(0, 1)\n",
        "        plt.show()\n",
        "\n",
        "        another_simulation = input(\"Simulate another scenario? (yes/no): \").lower()\n",
        "        if another_simulation != 'yes':\n",
        "            break\n",
        "\n",
        "simulate_scenario()"
      ],
      "metadata": {
        "id": "hnbQdBKF-Uk7"
      },
      "execution_count": null,
      "outputs": []
    }
  ]
}